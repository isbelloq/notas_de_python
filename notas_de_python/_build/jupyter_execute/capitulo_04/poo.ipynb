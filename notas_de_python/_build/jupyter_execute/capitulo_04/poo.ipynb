{
 "cells": [
  {
   "attachments": {},
   "cell_type": "markdown",
   "metadata": {},
   "source": [
    "# Programacion orientada a objetos\n",
    "\n",
    "```{important} _Clase_: Molde que se utiliza para crear __objetos__\n",
    "```\n",
    "\n",
    "```{important} _Instancia_: Objeto creado con una clase.\n",
    "```\n",
    "\n",
    "```{important} _Atributo_: Informacion almacenada en una _clase_ o en una _instancia de clase_\n",
    "```\n",
    "\n",
    "```{important} _Metodo_: Herramienta para operar datos propios de una _clase_ o de otros objetos\n",
    "```"
   ]
  },
  {
   "attachments": {},
   "cell_type": "markdown",
   "metadata": {},
   "source": [
    "## Definicion de una clase\n",
    "\n",
    "Para definir una clase se usa la palabra reservada `class` seguido de un nombre.\n",
    "\n",
    "```{tip} Segun [PEP-8](https://peps.python.org/pep-0008/#class-names) los nombres de clase se deben poner usando la convencion de __CamelCase__.\n",
    "```"
   ]
  },
  {
   "cell_type": "code",
   "execution_count": 1,
   "metadata": {},
   "outputs": [],
   "source": [
    "# Creacion de una clase vacia\n",
    "class MiPrimeraClase:\n",
    "    pass"
   ]
  },
  {
   "cell_type": "code",
   "execution_count": 2,
   "metadata": {},
   "outputs": [
    {
     "name": "stdout",
     "output_type": "stream",
     "text": [
      "<class '__main__.MiPrimeraClase'>\n",
      "<class '__main__.MiPrimeraClase'>\n"
     ]
    }
   ],
   "source": [
    "# Cracion de instancias de clase\n",
    "\n",
    "a = MiPrimeraClase()\n",
    "b = MiPrimeraClase()\n",
    "\n",
    "# Revision del tipo de dato de las instancias a y b\n",
    "print(type(a))\n",
    "print(type(b))"
   ]
  },
  {
   "attachments": {},
   "cell_type": "markdown",
   "metadata": {},
   "source": [
    "## Atributos\n",
    "\n",
    "```{important} Los _atributos_ guardan informacion de una clase\n",
    "```\n",
    "\n",
    "Se pueden agregar nuevos atributos a una clase de dos formas:\n",
    "\n",
    "* `instancia.atriburo = valor`\n",
    "* `setattr(instancia, atributo, valor)`"
   ]
  },
  {
   "cell_type": "code",
   "execution_count": 3,
   "metadata": {},
   "outputs": [],
   "source": [
    "# Agregando atributos con .\n",
    "a.nombre = 'Santiago'\n",
    "a.edad = 29\n",
    "\n",
    "# Agregando atributos con setattr\n",
    "setattr(b, 'nombre', 'Ivan')\n",
    "setattr(b, 'edad', 29)"
   ]
  },
  {
   "attachments": {},
   "cell_type": "markdown",
   "metadata": {},
   "source": [
    "Se pueden acceder a los atributos de dos formas:\n",
    "\n",
    "* `instancia.atributo`\n",
    "* `getattr(instancia, atributo)`"
   ]
  },
  {
   "cell_type": "code",
   "execution_count": 4,
   "metadata": {},
   "outputs": [
    {
     "name": "stdout",
     "output_type": "stream",
     "text": [
      "Santiago\n",
      "29\n",
      "Ivan\n",
      "29\n"
     ]
    }
   ],
   "source": [
    "# Accediendo con getattr\n",
    "print(getattr(a, 'nombre'))\n",
    "print(getattr(a, 'edad'))\n",
    "\n",
    "# Accediedo con .\n",
    "print(b.nombre)\n",
    "print(b.edad)"
   ]
  },
  {
   "attachments": {},
   "cell_type": "markdown",
   "metadata": {},
   "source": [
    "(poo-inicializar_clase)=\n",
    "### Inicializar Clases\n",
    "\n",
    "La funcion `__init__()` es una funcion **constructora** tiene el poder de asignar valores a propiedades de objetos o hacer las operaciones necesarias para que un objeto sea creado.\n",
    "\n",
    "En el siguiente ejemplo se crea la clase `Consolas` con algunos atibutos."
   ]
  },
  {
   "cell_type": "code",
   "execution_count": 5,
   "metadata": {},
   "outputs": [],
   "source": [
    "# Defincion de la clase Consola\n",
    "class Consolas():\n",
    "    def __init__(self, companhia: str, nombre: str) -> None:\n",
    "        self.companhia = companhia\n",
    "        self.nombre = nombre"
   ]
  },
  {
   "cell_type": "code",
   "execution_count": 6,
   "metadata": {},
   "outputs": [
    {
     "name": "stdout",
     "output_type": "stream",
     "text": [
      "Nintendo Switch\n",
      "Sony Play Station 5\n"
     ]
    }
   ],
   "source": [
    "# Creacion de instancias\n",
    "consola_1 = Consolas('Nintendo', 'Switch')\n",
    "consola_2 = Consolas(companhia='Sony', nombre='Play Station 5')\n",
    "\n",
    "# Obtencion de atributos de las instancias\n",
    "print(consola_1.companhia, consola_1.nombre)\n",
    "print(getattr(consola_2, 'companhia'), getattr(consola_2, 'nombre'))"
   ]
  },
  {
   "attachments": {},
   "cell_type": "markdown",
   "metadata": {},
   "source": [
    "A una instancia ya creada se le puede agregar atriburos.\n",
    "\n",
    "Ejemplo:"
   ]
  },
  {
   "cell_type": "code",
   "execution_count": 7,
   "metadata": {},
   "outputs": [
    {
     "name": "stdout",
     "output_type": "stream",
     "text": [
      "2017\n"
     ]
    }
   ],
   "source": [
    "# Creacion de atributo `lanzamiento` en instancia consola_1\n",
    "consola_1.lanzamiento = 2017\n",
    "\n",
    "print(consola_1.lanzamiento)"
   ]
  },
  {
   "cell_type": "code",
   "execution_count": 8,
   "metadata": {},
   "outputs": [
    {
     "ename": "AttributeError",
     "evalue": "'Consolas' object has no attribute 'lanzamiento'",
     "output_type": "error",
     "traceback": [
      "\u001b[0;31m---------------------------------------------------------------------------\u001b[0m",
      "\u001b[0;31mAttributeError\u001b[0m                            Traceback (most recent call last)",
      "Cell \u001b[0;32mIn[8], line 2\u001b[0m\n\u001b[1;32m      1\u001b[0m \u001b[38;5;66;03m# Comprobacion de no creacion de atributo `lanzamiento` en consola_2\u001b[39;00m\n\u001b[0;32m----> 2\u001b[0m \u001b[38;5;28mprint\u001b[39m(\u001b[43mconsola_2\u001b[49m\u001b[38;5;241;43m.\u001b[39;49m\u001b[43mlanzamiento\u001b[49m)\n",
      "\u001b[0;31mAttributeError\u001b[0m: 'Consolas' object has no attribute 'lanzamiento'"
     ]
    }
   ],
   "source": [
    "# Comprobacion de no creacion de atributo `lanzamiento` en consola_2\n",
    "print(consola_2.lanzamiento)"
   ]
  },
  {
   "attachments": {},
   "cell_type": "markdown",
   "metadata": {},
   "source": [
    "```{important} Al crear una instacia, los atributos nuevos que se definan despues de su creacion no son compartidos.\n",
    "```"
   ]
  },
  {
   "attachments": {},
   "cell_type": "markdown",
   "metadata": {},
   "source": [
    "### Operaciones con los atributos\n",
    "\n",
    "Hasta el momento hemos jugado con dos funciones que nos permiten assignar (`setattr`) y obtener (`getattr`) un atributo de una clase, sin embargo existen otras dos funciones:\n",
    "\n",
    "* `hasattr(objeto, nombre)` Retorna `True` se el nombre esta dentro del objeto, `False` en caso contrario.\n",
    "* `delattr(objeto, nombre)` Elimina el atributo con el nombre especificado.\n",
    "\n",
    "Aparte de estas dos funciones, la funcion `vars(objeto)` genera un diccionario donde las llaves son los nombres de los atributos y sus valores la asignacion.\n",
    "\n",
    "Veamos algunos ejemplos:"
   ]
  },
  {
   "cell_type": "code",
   "execution_count": 17,
   "metadata": {},
   "outputs": [
    {
     "name": "stdout",
     "output_type": "stream",
     "text": [
      "{'companhia': 'Nintendo', 'nombre': 'GameBoy'}\n"
     ]
    }
   ],
   "source": [
    "# Creando una instanacia\n",
    "c = Consolas('Nintendo', 'GameBoy')\n",
    "\n",
    "# Revisando los atrubutos\n",
    "print(vars(c))"
   ]
  },
  {
   "cell_type": "code",
   "execution_count": 18,
   "metadata": {},
   "outputs": [
    {
     "name": "stdout",
     "output_type": "stream",
     "text": [
      "{'companhia': 'Nintendo', 'nombre': 'GameBoy', 'lanzamiento': 1989}\n"
     ]
    }
   ],
   "source": [
    "# Creando un nuevo atributo a la clase\n",
    "setattr(c, 'lanzamiento', 1989)\n",
    "\n",
    "print(vars(c))"
   ]
  },
  {
   "cell_type": "code",
   "execution_count": 12,
   "metadata": {},
   "outputs": [
    {
     "ename": "AttributeError",
     "evalue": "'Consolas' object has no attribute 'juegos'",
     "output_type": "error",
     "traceback": [
      "\u001b[0;31m---------------------------------------------------------------------------\u001b[0m",
      "\u001b[0;31mAttributeError\u001b[0m                            Traceback (most recent call last)",
      "Cell \u001b[0;32mIn[12], line 2\u001b[0m\n\u001b[1;32m      1\u001b[0m \u001b[39m# Probando funcionalidad de getattr\u001b[39;00m\n\u001b[0;32m----> 2\u001b[0m \u001b[39mgetattr\u001b[39;49m(c, \u001b[39m'\u001b[39;49m\u001b[39mjuegos\u001b[39;49m\u001b[39m'\u001b[39;49m) \u001b[39m# Genera error porque 'juegos' no existe\u001b[39;00m\n",
      "\u001b[0;31mAttributeError\u001b[0m: 'Consolas' object has no attribute 'juegos'"
     ]
    }
   ],
   "source": [
    "# Probando funcionalidad de getattr\n",
    "getattr(c, 'juegos') # Genera error porque 'juegos' no existe"
   ]
  },
  {
   "cell_type": "code",
   "execution_count": 13,
   "metadata": {},
   "outputs": [
    {
     "name": "stdout",
     "output_type": "stream",
     "text": [
      "None\n",
      "{'companhia': 'Nintendo', 'nombre': 'GameBoy', 'lanzamiento': 1989}\n"
     ]
    }
   ],
   "source": [
    "print(getattr(c, 'juegos', None)) # No se genera error porque se pone un valor por defecto\n",
    "print(vars(c))"
   ]
  },
  {
   "cell_type": "code",
   "execution_count": 14,
   "metadata": {},
   "outputs": [
    {
     "name": "stdout",
     "output_type": "stream",
     "text": [
      "True\n",
      "False\n"
     ]
    }
   ],
   "source": [
    "# Probando hasattr\n",
    "print(hasattr(c, 'lanzamiento')) #True\n",
    "print(hasattr(c, 'juegos')) #False"
   ]
  },
  {
   "cell_type": "code",
   "execution_count": 19,
   "metadata": {},
   "outputs": [
    {
     "name": "stdout",
     "output_type": "stream",
     "text": [
      "{'companhia': 'Nintendo', 'lanzamiento': 1989}\n",
      "{'lanzamiento': 1989}\n"
     ]
    }
   ],
   "source": [
    "# Probando delattr\n",
    "delattr(c, 'nombre')\n",
    "\n",
    "print(vars(c))\n",
    "\n",
    "# otra forma de hacer delattr\n",
    "del c.companhia\n",
    "\n",
    "print(vars(c))"
   ]
  },
  {
   "attachments": {},
   "cell_type": "markdown",
   "metadata": {},
   "source": [
    "### Atributos de clase\n",
    "\n",
    "Los atributos vistos hasta ahora son propios de cada instancia y no son compartidos entre instancias, tal y como se vio en {ref}`poo-inicializar_clase`. Para crear atributos que se compartan por todas las instancias de clase se deben definir los atributos en el primer bloque logico como se muestra a continuacion."
   ]
  },
  {
   "cell_type": "code",
   "execution_count": 25,
   "metadata": {},
   "outputs": [],
   "source": [
    "# Definicion de clase con atributos de clase\n",
    "class Michi:\n",
    "    #Atributos de clase\n",
    "    papitas = 4\n",
    "    color = 'Negro'\n",
    "    nombres = []\n",
    "    def __init__(self, nombre: str) -> None:\n",
    "        #Atributos de instancia\n",
    "        self.nombre = nombre\n",
    "        self.nombres.append(nombre)"
   ]
  },
  {
   "cell_type": "code",
   "execution_count": 26,
   "metadata": {},
   "outputs": [],
   "source": [
    "# Instanciando michis\n",
    "venus = Michi('Venus')\n",
    "hera = Michi('Hera')\n",
    "gaia = Michi('Gaia')"
   ]
  },
  {
   "cell_type": "code",
   "execution_count": 27,
   "metadata": {},
   "outputs": [
    {
     "name": "stdout",
     "output_type": "stream",
     "text": [
      "Negro Negro\n",
      "4 4\n",
      "Negro Plateado\n",
      "4 4\n"
     ]
    }
   ],
   "source": [
    "#Examinando atributos\n",
    "print(venus.color, gaia.color)\n",
    "print(venus.papitas, gaia.papitas)\n",
    "\n",
    "#Modificando el color de gaia\n",
    "gaia.color = 'Plateado'\n",
    "\n",
    "#Examinando atributos luego del cambio\n",
    "print(venus.color, gaia.color)\n",
    "print(venus.papitas, gaia.papitas)"
   ]
  },
  {
   "attachments": {},
   "cell_type": "markdown",
   "metadata": {},
   "source": [
    "```{important} Aunque al inicializar las instancias compartan atributos, si se modifica un atributo en una instancia determinada, este cambio solo se ve reflejado en la instancia modificada y no se replicara en el resto de instancias definidas.\n",
    "```"
   ]
  },
  {
   "attachments": {},
   "cell_type": "markdown",
   "metadata": {},
   "source": [
    "Cuando se crean atributos de clase, no es necesario instanciar objetos para acceder a sus valores. Un ejemplo se ve a continuacion."
   ]
  },
  {
   "cell_type": "code",
   "execution_count": 30,
   "metadata": {},
   "outputs": [
    {
     "name": "stdout",
     "output_type": "stream",
     "text": [
      "{'__module__': '__main__', 'papitas': 4, 'color': 'Negro', 'nombres': ['Venus', 'Hera', 'Gaia'], '__init__': <function Michi.__init__ at 0x7f1fb047e200>, '__dict__': <attribute '__dict__' of 'Michi' objects>, '__weakref__': <attribute '__weakref__' of 'Michi' objects>, '__doc__': None}\n",
      "4\n"
     ]
    }
   ],
   "source": [
    "# Examinando atributos de la Clase\n",
    "print(vars(Michi))\n",
    "\n",
    "# Obtencion de atributos de clase\n",
    "print(Michi.papitas)"
   ]
  },
  {
   "cell_type": "code",
   "execution_count": 31,
   "metadata": {},
   "outputs": [
    {
     "ename": "AttributeError",
     "evalue": "type object 'Michi' has no attribute 'nombre'",
     "output_type": "error",
     "traceback": [
      "\u001b[0;31m---------------------------------------------------------------------------\u001b[0m",
      "\u001b[0;31mAttributeError\u001b[0m                            Traceback (most recent call last)",
      "Cell \u001b[0;32mIn[31], line 2\u001b[0m\n\u001b[1;32m      1\u001b[0m \u001b[39m# Generando error por intentar acceder a atributo de instancia\u001b[39;00m\n\u001b[0;32m----> 2\u001b[0m \u001b[39mprint\u001b[39m(Michi\u001b[39m.\u001b[39;49mnombre)\n",
      "\u001b[0;31mAttributeError\u001b[0m: type object 'Michi' has no attribute 'nombre'"
     ]
    }
   ],
   "source": [
    "# Generando error por intentar acceder a atributo de instancia\n",
    "print(Michi.nombre)"
   ]
  },
  {
   "attachments": {},
   "cell_type": "markdown",
   "metadata": {},
   "source": [
    "Al utilizar atributos de clase hay que prestar especial atencion a la mutabilidad de los objetos que se usan para asignar los valores, dado que al estar en el contexto de clase y no de instancia, si cualquier intancia modifica los atributos de clase en cualquier momento, por ejemplo, al instanciar la clase en el metodo `__init__`, estara modificando tambien los atributos de todas las instancias de la misma clase. Ocurre lo mismo si los atributos de la clase se modifican diretamente, el cambio se propaga por todas las instancias que no definan el atributo en la instancia. {cite}`jimenez2021python`"
   ]
  },
  {
   "cell_type": "code",
   "execution_count": 33,
   "metadata": {},
   "outputs": [
    {
     "name": "stdout",
     "output_type": "stream",
     "text": [
      "['Venus', 'Hera', 'Gaia']\n",
      "['Venus', 'Hera', 'Gaia']\n",
      "['Venus', 'Hera', 'Gaia']\n"
     ]
    }
   ],
   "source": [
    "# __init__ modifica atributos de clase porque esta en el contexto de clase\n",
    "print(Michi.nombres)\n",
    "\n",
    "# revision de nombres en hera y gaia\n",
    "print(hera.nombres)\n",
    "print(gaia.nombres)"
   ]
  },
  {
   "cell_type": "code",
   "execution_count": 34,
   "metadata": {},
   "outputs": [
    {
     "name": "stdout",
     "output_type": "stream",
     "text": [
      "['Venus', 'Hera', 'Gaia']\n",
      "['Venus', 'Hera', 'Gaia']\n",
      "[]\n"
     ]
    }
   ],
   "source": [
    "# Modificar nombres en instancia, solo se modifica hera\n",
    "# porque el cambio se hace en el contexto de instancia\n",
    "hera.nombres = []\n",
    "\n",
    "# Revision de atributo nombes en Michi (clase) y en venus (instancia)\n",
    "print(Michi.nombres)\n",
    "print(venus.nombres)\n",
    "\n",
    "# Revision de atributo nombes en hera\n",
    "print(hera.nombres)"
   ]
  },
  {
   "cell_type": "code",
   "execution_count": 35,
   "metadata": {},
   "outputs": [
    {
     "name": "stdout",
     "output_type": "stream",
     "text": [
      "['Josefina', 'Pancracio', 'Misifus']\n",
      "['Josefina', 'Pancracio', 'Misifus']\n",
      "['Josefina', 'Pancracio', 'Misifus']\n",
      "[]\n"
     ]
    }
   ],
   "source": [
    "# Modificacion de nombres en clase, el cambio se progara\n",
    "# a venus y gaia porque no se asigno el atributo nombres\n",
    "# a nivel de instancia\n",
    "Michi.nombres = ['Josefina', 'Pancracio', 'Misifus']\n",
    "\n",
    "# Se modifica gaia y venus pero no hera\n",
    "print(Michi.nombres)\n",
    "print(venus.nombres)\n",
    "print(gaia.nombres)\n",
    "print(hera.nombres)"
   ]
  }
 ],
 "metadata": {
  "kernelspec": {
   "display_name": ".venv",
   "language": "python",
   "name": "python3"
  },
  "language_info": {
   "codemirror_mode": {
    "name": "ipython",
    "version": 3
   },
   "file_extension": ".py",
   "mimetype": "text/x-python",
   "name": "python",
   "nbconvert_exporter": "python",
   "pygments_lexer": "ipython3",
   "version": "3.10.10"
  },
  "vscode": {
   "interpreter": {
    "hash": "7b43eada4ad709a4830a67a9dc3cac500a6dfb65289ff7159b4b3a926e462281"
   }
  }
 },
 "nbformat": 4,
 "nbformat_minor": 2
}