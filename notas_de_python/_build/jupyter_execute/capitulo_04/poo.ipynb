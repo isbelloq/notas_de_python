{
 "cells": [
  {
   "attachments": {},
   "cell_type": "markdown",
   "metadata": {},
   "source": [
    "# Programacion orientada a objetos\n",
    "\n",
    "```{important} _Clase_: Molde que se utiliza para crear __objetos__\n",
    "```\n",
    "\n",
    "```{important} _Instancia_: Objeto creado con una clase.\n",
    "```\n",
    "\n",
    "```{important} _Atributo_: Informacion almacenada en una _clase_ o en una _instancia de clase_\n",
    "```\n",
    "\n",
    "```{important} _Metodo_: Herramienta para operar datos propios de una _clase_ o de otros objetos\n",
    "```"
   ]
  },
  {
   "attachments": {},
   "cell_type": "markdown",
   "metadata": {},
   "source": [
    "## Definicion de una clase\n",
    "\n",
    "Para definir una clase se usa la palabra reservada `class` seguido de un nombre.\n",
    "\n",
    "```{tip} Segun [PEP-8](https://peps.python.org/pep-0008/#class-names) los nombres de clase se deben poner usando la convencion de __CamelCase__.\n",
    "```"
   ]
  },
  {
   "cell_type": "code",
   "execution_count": 1,
   "metadata": {},
   "outputs": [],
   "source": [
    "# Creacion de una clase vacia\n",
    "class MiPrimeraClase:\n",
    "    pass"
   ]
  },
  {
   "cell_type": "code",
   "execution_count": 2,
   "metadata": {},
   "outputs": [
    {
     "name": "stdout",
     "output_type": "stream",
     "text": [
      "<class '__main__.MiPrimeraClase'>\n",
      "<class '__main__.MiPrimeraClase'>\n"
     ]
    }
   ],
   "source": [
    "# Cracion de instancias de clase\n",
    "\n",
    "a = MiPrimeraClase()\n",
    "b = MiPrimeraClase()\n",
    "\n",
    "# Revision del tipo de dato de las instancias a y b\n",
    "print(type(a))\n",
    "print(type(b))"
   ]
  },
  {
   "attachments": {},
   "cell_type": "markdown",
   "metadata": {},
   "source": [
    "## Atributos\n",
    "\n",
    "```{important} Los _atributos_ guardan informacion de una clase\n",
    "```\n",
    "\n",
    "Se pueden agregar nuevos atributos a una clase de dos formas:\n",
    "\n",
    "* `instancia.atriburo = valor`\n",
    "* `setattr(instancia, atributo, valor)`"
   ]
  },
  {
   "cell_type": "code",
   "execution_count": 3,
   "metadata": {},
   "outputs": [],
   "source": [
    "# Agregando atributos con .\n",
    "a.nombre = 'Santiago'\n",
    "a.edad = 29\n",
    "\n",
    "# Agregando atributos con setattr\n",
    "setattr(b, 'nombre', 'Ivan')\n",
    "setattr(b, 'edad', 29)"
   ]
  },
  {
   "attachments": {},
   "cell_type": "markdown",
   "metadata": {},
   "source": [
    "Se pueden acceder a los atributos de dos formas:\n",
    "\n",
    "* `instancia.atributo`\n",
    "* `getattr(instancia, atributo)`"
   ]
  },
  {
   "cell_type": "code",
   "execution_count": 4,
   "metadata": {},
   "outputs": [
    {
     "name": "stdout",
     "output_type": "stream",
     "text": [
      "Santiago\n",
      "29\n",
      "Ivan\n",
      "29\n"
     ]
    }
   ],
   "source": [
    "# Accediendo con getattr\n",
    "print(getattr(a, 'nombre'))\n",
    "print(getattr(a, 'edad'))\n",
    "\n",
    "# Accediedo con .\n",
    "print(b.nombre)\n",
    "print(b.edad)"
   ]
  },
  {
   "attachments": {},
   "cell_type": "markdown",
   "metadata": {},
   "source": [
    "(poo-inicializar_clase)=\n",
    "### Inicializar Clases\n",
    "\n",
    "La funcion `__init__()` es una funcion **constructora** tiene el poder de asignar valores a propiedades de objetos o hacer las operaciones necesarias para que un objeto sea creado.\n",
    "\n",
    "En el siguiente ejemplo se crea la clase `Consolas` con algunos atibutos."
   ]
  },
  {
   "cell_type": "code",
   "execution_count": 5,
   "metadata": {},
   "outputs": [],
   "source": [
    "# Defincion de la clase Consola\n",
    "class Consolas():\n",
    "    def __init__(self, companhia: str, nombre: str) -> None:\n",
    "        self.companhia = companhia\n",
    "        self.nombre = nombre"
   ]
  },
  {
   "cell_type": "code",
   "execution_count": 6,
   "metadata": {},
   "outputs": [
    {
     "name": "stdout",
     "output_type": "stream",
     "text": [
      "Nintendo Switch\n",
      "Sony Play Station 5\n"
     ]
    }
   ],
   "source": [
    "# Creacion de instancias\n",
    "consola_1 = Consolas('Nintendo', 'Switch')\n",
    "consola_2 = Consolas(companhia='Sony', nombre='Play Station 5')\n",
    "\n",
    "# Obtencion de atributos de las instancias\n",
    "print(consola_1.companhia, consola_1.nombre)\n",
    "print(getattr(consola_2, 'companhia'), getattr(consola_2, 'nombre'))"
   ]
  },
  {
   "attachments": {},
   "cell_type": "markdown",
   "metadata": {},
   "source": [
    "A una instancia ya creada se le puede agregar atriburos.\n",
    "\n",
    "Ejemplo:"
   ]
  },
  {
   "cell_type": "code",
   "execution_count": 7,
   "metadata": {},
   "outputs": [
    {
     "name": "stdout",
     "output_type": "stream",
     "text": [
      "2017\n"
     ]
    }
   ],
   "source": [
    "# Creacion de atributo `lanzamiento` en instancia consola_1\n",
    "consola_1.lanzamiento = 2017\n",
    "\n",
    "print(consola_1.lanzamiento)"
   ]
  },
  {
   "cell_type": "code",
   "execution_count": 8,
   "metadata": {},
   "outputs": [
    {
     "ename": "AttributeError",
     "evalue": "'Consolas' object has no attribute 'lanzamiento'",
     "output_type": "error",
     "traceback": [
      "\u001b[0;31m---------------------------------------------------------------------------\u001b[0m",
      "\u001b[0;31mAttributeError\u001b[0m                            Traceback (most recent call last)",
      "Cell \u001b[0;32mIn[8], line 2\u001b[0m\n\u001b[1;32m      1\u001b[0m \u001b[38;5;66;03m# Comprobacion de no creacion de atributo `lanzamiento` en consola_2\u001b[39;00m\n\u001b[0;32m----> 2\u001b[0m \u001b[38;5;28mprint\u001b[39m(\u001b[43mconsola_2\u001b[49m\u001b[38;5;241;43m.\u001b[39;49m\u001b[43mlanzamiento\u001b[49m)\n",
      "\u001b[0;31mAttributeError\u001b[0m: 'Consolas' object has no attribute 'lanzamiento'"
     ]
    }
   ],
   "source": [
    "# Comprobacion de no creacion de atributo `lanzamiento` en consola_2\n",
    "print(consola_2.lanzamiento)"
   ]
  },
  {
   "attachments": {},
   "cell_type": "markdown",
   "metadata": {},
   "source": [
    "```{important} Al crear una instacia, los atributos nuevos que se definan despues de su creacion no son compartidos.\n",
    "```"
   ]
  },
  {
   "attachments": {},
   "cell_type": "markdown",
   "metadata": {},
   "source": [
    "### Operaciones con los atributos\n",
    "\n",
    "Hasta el momento hemos jugado con dos funciones que nos permiten assignar (`setattr`) y obtener (`getattr`) un atributo de una clase, sin embargo existen otras dos funciones:\n",
    "\n",
    "* `hasattr(objeto, nombre)` Retorna `True` se el nombre esta dentro del objeto, `False` en caso contrario.\n",
    "* `delattr(objeto, nombre)` Elimina el atributo con el nombre especificado.\n",
    "\n",
    "Aparte de estas dos funciones, la funcion `vars(objeto)` genera un diccionario donde las llaves son los nombres de los atributos y sus valores la asignacion.\n",
    "\n",
    "Veamos algunos ejemplos:"
   ]
  },
  {
   "cell_type": "code",
   "execution_count": null,
   "metadata": {},
   "outputs": [],
   "source": [
    "# Creando una instanacia\n",
    "c = Consolas('Nintendo', 'GameBoy')\n",
    "\n",
    "# Revisando los atrubutos\n",
    "print(vars(c))"
   ]
  },
  {
   "cell_type": "code",
   "execution_count": null,
   "metadata": {},
   "outputs": [],
   "source": [
    "# Creando un nuevo atributo a la clase\n",
    "setattr(c, 'lanzamiento', 1989)\n",
    "\n",
    "print(vars(c))"
   ]
  },
  {
   "cell_type": "code",
   "execution_count": null,
   "metadata": {},
   "outputs": [],
   "source": [
    "# Probando funcionalidad de getattr\n",
    "getattr(c, 'juegos') # Genera error porque 'juegos' no existe"
   ]
  },
  {
   "cell_type": "code",
   "execution_count": null,
   "metadata": {},
   "outputs": [],
   "source": [
    "print(getattr(c, 'juegos', None)) # No se genera error porque se pone un valor por defecto\n",
    "print(vars(c))"
   ]
  },
  {
   "cell_type": "code",
   "execution_count": null,
   "metadata": {},
   "outputs": [],
   "source": [
    "# Probando hasattr\n",
    "print(hasattr(c, 'lanzamiento')) #True\n",
    "print(hasattr(c, 'juegos')) #False"
   ]
  },
  {
   "cell_type": "code",
   "execution_count": null,
   "metadata": {},
   "outputs": [],
   "source": [
    "# Probando delattr\n",
    "delattr(c, 'nombre')\n",
    "\n",
    "print(vars(c))\n",
    "\n",
    "# otra forma de hacer delattr\n",
    "del c.companhia\n",
    "\n",
    "print(vars(c))"
   ]
  },
  {
   "attachments": {},
   "cell_type": "markdown",
   "metadata": {},
   "source": [
    "### Atributos de clase\n",
    "\n",
    "Los atributos vistos hasta ahora son propios de cada instancia y no son compartidos entre instancias, tal y como se vio en {ref}`poo-inicializar_clase`. Para crear atributos que se compartan por todas las instancias de clase se deben definir los atributos en el primer bloque logico como se muestra a continuacion."
   ]
  },
  {
   "cell_type": "code",
   "execution_count": null,
   "metadata": {},
   "outputs": [],
   "source": [
    "# Definicion de clase con atributos de clase\n",
    "class Michi:\n",
    "    #Atributos de clase\n",
    "    papitas = 4\n",
    "    color = 'Negro'\n",
    "    nombres = []\n",
    "    def __init__(self, nombre: str) -> None:\n",
    "        #Atributos de instancia\n",
    "        self.nombre = nombre\n",
    "        self.nombres.append(nombre)"
   ]
  },
  {
   "cell_type": "code",
   "execution_count": null,
   "metadata": {},
   "outputs": [],
   "source": [
    "# Instanciando michis\n",
    "venus = Michi('Venus')\n",
    "hera = Michi('Hera')\n",
    "gaia = Michi('Gaia')"
   ]
  },
  {
   "cell_type": "code",
   "execution_count": null,
   "metadata": {},
   "outputs": [],
   "source": [
    "#Examinando atributos\n",
    "print(venus.color, gaia.color)\n",
    "print(venus.papitas, gaia.papitas)\n",
    "\n",
    "#Modificando el color de gaia\n",
    "gaia.color = 'Plateado'\n",
    "\n",
    "#Examinando atributos luego del cambio\n",
    "print(venus.color, gaia.color)\n",
    "print(venus.papitas, gaia.papitas)"
   ]
  },
  {
   "attachments": {},
   "cell_type": "markdown",
   "metadata": {},
   "source": [
    "```{important} Aunque al inicializar las instancias compartan atributos, si se modifica un atributo en una instancia determinada, este cambio solo se ve reflejado en la instancia modificada y no se replicara en el resto de instancias definidas.\n",
    "```"
   ]
  },
  {
   "attachments": {},
   "cell_type": "markdown",
   "metadata": {},
   "source": [
    "Cuando se crean atributos de clase, no es necesario instanciar objetos para acceder a sus valores. Un ejemplo se ve a continuacion."
   ]
  },
  {
   "cell_type": "code",
   "execution_count": null,
   "metadata": {},
   "outputs": [],
   "source": [
    "# Examinando atributos de la Clase\n",
    "print(vars(Michi))\n",
    "\n",
    "# Obtencion de atributos de clase\n",
    "print(Michi.papitas)"
   ]
  },
  {
   "cell_type": "code",
   "execution_count": null,
   "metadata": {},
   "outputs": [],
   "source": [
    "# Generando error por intentar acceder a atributo de instancia\n",
    "print(Michi.nombre)"
   ]
  },
  {
   "attachments": {},
   "cell_type": "markdown",
   "metadata": {},
   "source": [
    "Al utilizar atributos de clase hay que prestar especial atencion a la mutabilidad de los objetos que se usan para asignar los valores, dado que al estar en el contexto de clase y no de instancia, si cualquier intancia modifica los atributos de clase en cualquier momento, por ejemplo, al instanciar la clase en el metodo `__init__`, estara modificando tambien los atributos de todas las instancias de la misma clase. Ocurre lo mismo si los atributos de la clase se modifican diretamente, el cambio se propaga por todas las instancias que no definan el atributo en la instancia. {cite}`jimenez2021python`"
   ]
  },
  {
   "cell_type": "code",
   "execution_count": null,
   "metadata": {},
   "outputs": [],
   "source": [
    "# __init__ modifica atributos de clase porque esta en el contexto de clase\n",
    "print(Michi.nombres)\n",
    "\n",
    "# revision de nombres en hera y gaia\n",
    "print(hera.nombres)\n",
    "print(gaia.nombres)"
   ]
  },
  {
   "cell_type": "code",
   "execution_count": null,
   "metadata": {},
   "outputs": [],
   "source": [
    "# Modificar nombres en instancia, solo se modifica hera\n",
    "# porque el cambio se hace en el contexto de instancia\n",
    "hera.nombres = []\n",
    "\n",
    "# Revision de atributo nombes en Michi (clase) y en venus (instancia)\n",
    "print(Michi.nombres)\n",
    "print(venus.nombres)\n",
    "\n",
    "# Revision de atributo nombes en hera\n",
    "print(hera.nombres)"
   ]
  },
  {
   "cell_type": "code",
   "execution_count": null,
   "metadata": {},
   "outputs": [],
   "source": [
    "# Modificacion de nombres en clase, el cambio se progara\n",
    "# a venus y gaia porque no se asigno el atributo nombres\n",
    "# a nivel de instancia\n",
    "Michi.nombres = ['Josefina', 'Pancracio', 'Misifus']\n",
    "\n",
    "# Se modifica gaia y venus pero no hera\n",
    "print(Michi.nombres)\n",
    "print(venus.nombres)\n",
    "print(gaia.nombres)\n",
    "print(hera.nombres)"
   ]
  },
  {
   "attachments": {},
   "cell_type": "markdown",
   "metadata": {},
   "source": [
    "## Proteccion y privacidad en clases\n",
    "\n",
    "* `_protegido`: Se considera un atributo o metodo _protegido_ de la clase, segun el [PEP-8](https://peps.python.org/pep-0008/#descriptive-naming-styles) es un indicador debil de uso intero, esto significa que no deberia ser usada fuera de la clase en la que se definio.\n",
    "\n",
    "* `__privado`: Se considera un atributo o metodo _privado_ de la clase, segun el [PEP-8](https://peps.python.org/pep-0008/#descriptive-naming-styles) invoca el _name mangling_, esto quiere decir, que para acceder al abributo/metodo se deba usar `instancia._Clase__privado`. Se recomienda fuertemente no usar el atriburto/metodo fuera de la clase.\n",
    "\n",
    "```{tip}\n",
    "`Python` no tiene los conceptos de _protegido_ o _privado_, como si lo tiene `Java` por lo que se puede acceder y modificar los atributos/metodos si se sabe como acceder a ellos. **NO** se recomienda la manipulacion de los atributros/metodos que sean `_protegidos` o `__privados`\n",
    "```\n",
    "\n",
    "Ejemplo:"
   ]
  },
  {
   "cell_type": "code",
   "execution_count": 1,
   "metadata": {},
   "outputs": [],
   "source": [
    "# Definicion de clase\n",
    "class Foo:\n",
    "    _protegido = 0\n",
    "    __privado = 0\n",
    "\n",
    "    def __init__(self, x) -> None:\n",
    "        self.x = x\n",
    "        self._x = x*2\n",
    "        self.__x = x*3"
   ]
  },
  {
   "cell_type": "code",
   "execution_count": 2,
   "metadata": {},
   "outputs": [
    {
     "name": "stdout",
     "output_type": "stream",
     "text": [
      "['_Foo__privado', '_Foo__x', '__class__', '__delattr__', '__dict__', '__dir__', '__doc__', '__eq__', '__format__', '__ge__', '__getattribute__', '__gt__', '__hash__', '__init__', '__init_subclass__', '__le__', '__lt__', '__module__', '__ne__', '__new__', '__reduce__', '__reduce_ex__', '__repr__', '__setattr__', '__sizeof__', '__str__', '__subclasshook__', '__weakref__', '_protegido', '_x', 'x']\n"
     ]
    }
   ],
   "source": [
    "# Intancia de clase\n",
    "foo = Foo(2)\n",
    "\n",
    "# dir muestra todos los atributos de la clase\n",
    "print(dir(foo))"
   ]
  },
  {
   "cell_type": "code",
   "execution_count": 3,
   "metadata": {},
   "outputs": [
    {
     "name": "stdout",
     "output_type": "stream",
     "text": [
      "2\n"
     ]
    }
   ],
   "source": [
    "# Obtencion de x\n",
    "print(foo.x)"
   ]
  },
  {
   "cell_type": "code",
   "execution_count": 4,
   "metadata": {},
   "outputs": [
    {
     "name": "stdout",
     "output_type": "stream",
     "text": [
      "4\n"
     ]
    }
   ],
   "source": [
    "# Obtencion de _x `protegido`\n",
    "print(foo._x)"
   ]
  },
  {
   "cell_type": "code",
   "execution_count": 5,
   "metadata": {},
   "outputs": [
    {
     "ename": "AttributeError",
     "evalue": "'Foo' object has no attribute '__x'",
     "output_type": "error",
     "traceback": [
      "\u001b[0;31m---------------------------------------------------------------------------\u001b[0m",
      "\u001b[0;31mAttributeError\u001b[0m                            Traceback (most recent call last)",
      "Cell \u001b[0;32mIn[5], line 2\u001b[0m\n\u001b[1;32m      1\u001b[0m \u001b[39m# Intendo de obtencion de __x `privado`\u001b[39;00m\n\u001b[0;32m----> 2\u001b[0m \u001b[39mprint\u001b[39m(foo\u001b[39m.\u001b[39;49m__x) \u001b[39m# Falla porque no tiene la forma `name mangling`\u001b[39;00m\n",
      "\u001b[0;31mAttributeError\u001b[0m: 'Foo' object has no attribute '__x'"
     ]
    }
   ],
   "source": [
    "# Intendo de obtencion de __x `privado`\n",
    "print(foo.__x) # Falla porque no tiene la forma `name mangling`"
   ]
  },
  {
   "cell_type": "code",
   "execution_count": 6,
   "metadata": {},
   "outputs": [
    {
     "name": "stdout",
     "output_type": "stream",
     "text": [
      "6\n"
     ]
    }
   ],
   "source": [
    "# Obtencion de __x `privado`\n",
    "print(foo._Foo__x)"
   ]
  },
  {
   "cell_type": "code",
   "execution_count": 7,
   "metadata": {},
   "outputs": [
    {
     "name": "stdout",
     "output_type": "stream",
     "text": [
      "0\n"
     ]
    }
   ],
   "source": [
    "# Obtencion de `_protegido` atributo de clase \n",
    "print(Foo._protegido)"
   ]
  },
  {
   "cell_type": "code",
   "execution_count": 8,
   "metadata": {},
   "outputs": [
    {
     "ename": "AttributeError",
     "evalue": "type object 'Foo' has no attribute '__privado'",
     "output_type": "error",
     "traceback": [
      "\u001b[0;31m---------------------------------------------------------------------------\u001b[0m",
      "\u001b[0;31mAttributeError\u001b[0m                            Traceback (most recent call last)",
      "Cell \u001b[0;32mIn[8], line 2\u001b[0m\n\u001b[1;32m      1\u001b[0m \u001b[39m# Intento de obtencion de `__privado` atributo de clase\u001b[39;00m\n\u001b[0;32m----> 2\u001b[0m \u001b[39mprint\u001b[39m(Foo\u001b[39m.\u001b[39;49m__privado) \u001b[39m# Falla porque no tiene `name mangling`\u001b[39;00m\n",
      "\u001b[0;31mAttributeError\u001b[0m: type object 'Foo' has no attribute '__privado'"
     ]
    }
   ],
   "source": [
    "# Intento de obtencion de `__privado` atributo de clase\n",
    "print(Foo.__privado) # Falla porque no tiene `name mangling`"
   ]
  },
  {
   "cell_type": "code",
   "execution_count": 9,
   "metadata": {},
   "outputs": [
    {
     "name": "stdout",
     "output_type": "stream",
     "text": [
      "0\n"
     ]
    }
   ],
   "source": [
    "# Obtencion de `__privado` atributo de clase\n",
    "print(Foo._Foo__privado)"
   ]
  },
  {
   "attachments": {},
   "cell_type": "markdown",
   "metadata": {},
   "source": [
    "(poo-construccion_de_clases_personalizada)=\n",
    "## Construccion de clases personalizada\n",
    "\n",
    "Existen dos metodos importantes en las clases `__new__` construye una instancio e `__init__` la inicializa.\n",
    "\n",
    "\n",
    "* `__new__` llamado para __crear una nueva instancia__ de la clase, __el valor devuelto por el metodo debe ser una instancia de un objeto__ cualquiera, no necesariamente de la clase creada. Cuando se define `__new__` en una clase es porque se quieren modificar la clase en el constructor.\n",
    "\n",
    "* `__init__` es llamado despues de `__new__` e inicializa la instancia que es devuelta por `__new__`.\n",
    "\n",
    "Para afianzar los conocimientos del uso de `__new__` e `__init` se plantea el siguiente problema:\n",
    "\n",
    "Se pretende crear la clase `Corredor` en la que se asigna los numeros de cada corredor de forma correlativa y, en caso de eliminar algun objeto `Corredor`, el hueco que ocupaba se queda vacio para poder ser asignado a algun nuevo corredor {cite}`jimenez2021python`"
   ]
  },
  {
   "cell_type": "code",
   "execution_count": 10,
   "metadata": {},
   "outputs": [],
   "source": [
    "class Corredor:\n",
    "    # atributo privado con el historal de numeros usados\n",
    "    __numeros_usados = set()\n",
    "\n",
    "    # constructor de la clase \n",
    "    def __new__(cls, nombre, num=1):\n",
    "        #Generador de numeros no usados\n",
    "        while num in cls.__numeros_usados:\n",
    "            num += 1\n",
    "        cls.__numeros_usados.add(num) # Agregacion de numero ya usado \n",
    "        instancia = super(Corredor, cls).__new__(cls) # Creacion de instancia dentro del constructor\n",
    "        instancia.__init__(nombre) # Inicializacion de la instancia\n",
    "        instancia.num = num # Modificacion de la instancia en el constructor\n",
    "        return instancia\n",
    "        \n",
    "    def __init__(self, nombre):\n",
    "        self.nombre = nombre\n",
    "    \n",
    "    def __del__(self):\n",
    "        self.__numeros_usados.remove(self.num)"
   ]
  },
  {
   "cell_type": "code",
   "execution_count": 11,
   "metadata": {},
   "outputs": [
    {
     "name": "stdout",
     "output_type": "stream",
     "text": [
      "1 2 3\n"
     ]
    }
   ],
   "source": [
    "# Creacion de corredores\n",
    "nairo = Corredor('Nairo')\n",
    "rigo = Corredor('Rigoberto')\n",
    "lopez = Corredor('Superman')\n",
    "\n",
    "# Revision de numeros asignados\n",
    "print(nairo.num, rigo.num, lopez.num)"
   ]
  },
  {
   "cell_type": "code",
   "execution_count": 12,
   "metadata": {},
   "outputs": [
    {
     "name": "stdout",
     "output_type": "stream",
     "text": [
      "{1, 3}\n"
     ]
    }
   ],
   "source": [
    "# Eliminacion de Rigo\n",
    "del rigo\n",
    "\n",
    "# Revision de atributo privado\n",
    "print(Corredor._Corredor__numeros_usados)"
   ]
  },
  {
   "cell_type": "code",
   "execution_count": 13,
   "metadata": {},
   "outputs": [
    {
     "name": "stdout",
     "output_type": "stream",
     "text": [
      "2\n"
     ]
    }
   ],
   "source": [
    "# Creacion de nuevo ciclista\n",
    "chaves = Corredor('Chavito')\n",
    "\n",
    "# Revision de numero de chaves\n",
    "print(chaves.num)"
   ]
  },
  {
   "attachments": {},
   "cell_type": "markdown",
   "metadata": {},
   "source": [
    "## Propiedades en clases\n",
    "\n",
    "Una propiedad de la clase define si un atributo puede ser obtenido (`getter`), modificado o definido (`setter`) y eliminado (`deleter`). para hacer uso de estas propiedad en Python se define `property` para controlar que hacer en los tres casos definidos anteriormente.\n",
    "\n",
    "Para ver como funciona se pide construir la clase `Punto` con las siguietnes reglas:\n",
    "* El punto `x` se debe poder acceder y eliminar, pero no modificar.\n",
    "* El punto `y` se debe poder acceder y modificar, pero no eliminar.\n",
    "\n",
    "La implementacion se muestra a continacion."
   ]
  },
  {
   "cell_type": "code",
   "execution_count": 1,
   "metadata": {},
   "outputs": [],
   "source": [
    "class Punto:\n",
    "    def __init__(self, x, y) -> None:\n",
    "        self._x = x\n",
    "        self._y = y\n",
    "\n",
    "    #Definicion de x    \n",
    "    ## getter\n",
    "    def getx(self):\n",
    "        return self._x\n",
    "\n",
    "    ## setter\n",
    "    def setx(self,valor):\n",
    "        raise Exception('Valor x no puede ser modificado')\n",
    "\n",
    "    ## deleter\n",
    "    def delx(sefl):\n",
    "        del sefl._x\n",
    "\n",
    "    ## configuracion de las propiedades de x\n",
    "    x = property(getx, setx, delx, 'Posicion en el eje de abscisas')\n",
    "\n",
    "    #Definicion de y\n",
    "    ## getter\n",
    "    def gety(self):\n",
    "        return self._y\n",
    "\n",
    "    ## setter\n",
    "    def sety(self,valor):\n",
    "        self._y = valor\n",
    "\n",
    "    ## deleter\n",
    "    def dely(sefl):\n",
    "        raise Exception('El atributo y no puede ser eliminado')\n",
    "\n",
    "    ## configuracion de las propiedades de y \n",
    "    y = property(gety, sety, dely, 'Posicion en el eje de ordenadas')"
   ]
  },
  {
   "cell_type": "code",
   "execution_count": 14,
   "metadata": {},
   "outputs": [
    {
     "name": "stdout",
     "output_type": "stream",
     "text": [
      "4 2\n"
     ]
    }
   ],
   "source": [
    "#Creacion del punto\n",
    "p1 = Punto(4,2)\n",
    "print(p1.x, p1.y)"
   ]
  },
  {
   "cell_type": "code",
   "execution_count": 16,
   "metadata": {},
   "outputs": [
    {
     "ename": "Exception",
     "evalue": "Valor x no puede ser modificado",
     "output_type": "error",
     "traceback": [
      "\u001b[0;31m---------------------------------------------------------------------------\u001b[0m",
      "\u001b[0;31mException\u001b[0m                                 Traceback (most recent call last)",
      "Cell \u001b[0;32mIn[16], line 2\u001b[0m\n\u001b[1;32m      1\u001b[0m \u001b[39m#Intendo de modificacion de x\u001b[39;00m\n\u001b[0;32m----> 2\u001b[0m p1\u001b[39m.\u001b[39;49mx \u001b[39m=\u001b[39m \u001b[39m89\u001b[39m\n",
      "Cell \u001b[0;32mIn[1], line 11\u001b[0m, in \u001b[0;36mPunto.setx\u001b[0;34m(self, valor)\u001b[0m\n\u001b[1;32m     10\u001b[0m \u001b[39mdef\u001b[39;00m \u001b[39msetx\u001b[39m(\u001b[39mself\u001b[39m,valor):\n\u001b[0;32m---> 11\u001b[0m     \u001b[39mraise\u001b[39;00m \u001b[39mException\u001b[39;00m(\u001b[39m'\u001b[39m\u001b[39mValor x no puede ser modificado\u001b[39m\u001b[39m'\u001b[39m)\n",
      "\u001b[0;31mException\u001b[0m: Valor x no puede ser modificado"
     ]
    }
   ],
   "source": [
    "#Intendo de modificacion de x\n",
    "p1.x = 89"
   ]
  },
  {
   "cell_type": "code",
   "execution_count": 17,
   "metadata": {},
   "outputs": [],
   "source": [
    "#Modificacion de y\n",
    "p1.y = 94"
   ]
  },
  {
   "cell_type": "code",
   "execution_count": 19,
   "metadata": {},
   "outputs": [
    {
     "name": "stdout",
     "output_type": "stream",
     "text": [
      "4 94\n"
     ]
    }
   ],
   "source": [
    "#Revision del punto\n",
    "print(p1.x, p1.y)"
   ]
  },
  {
   "cell_type": "code",
   "execution_count": 20,
   "metadata": {},
   "outputs": [],
   "source": [
    "#Eliminacion del punto x\n",
    "del p1.x"
   ]
  },
  {
   "cell_type": "code",
   "execution_count": 21,
   "metadata": {},
   "outputs": [
    {
     "ename": "Exception",
     "evalue": "El atributo y no puede ser eliminado",
     "output_type": "error",
     "traceback": [
      "\u001b[0;31m---------------------------------------------------------------------------\u001b[0m",
      "\u001b[0;31mException\u001b[0m                                 Traceback (most recent call last)",
      "Cell \u001b[0;32mIn[21], line 2\u001b[0m\n\u001b[1;32m      1\u001b[0m \u001b[39m#Intento de eliminacion del punto y\u001b[39;00m\n\u001b[0;32m----> 2\u001b[0m \u001b[39mdel\u001b[39;00m p1\u001b[39m.\u001b[39my\n",
      "Cell \u001b[0;32mIn[1], line 26\u001b[0m, in \u001b[0;36mPunto.dely\u001b[0;34m(sefl)\u001b[0m\n\u001b[1;32m     25\u001b[0m \u001b[39mdef\u001b[39;00m \u001b[39mdely\u001b[39m(sefl):\n\u001b[0;32m---> 26\u001b[0m     \u001b[39mraise\u001b[39;00m \u001b[39mException\u001b[39;00m(\u001b[39m'\u001b[39m\u001b[39mEl atributo y no puede ser eliminado\u001b[39m\u001b[39m'\u001b[39m)\n",
      "\u001b[0;31mException\u001b[0m: El atributo y no puede ser eliminado"
     ]
    }
   ],
   "source": [
    "#Intento de eliminacion del punto y\n",
    "del p1.y"
   ]
  },
  {
   "cell_type": "code",
   "execution_count": 9,
   "metadata": {},
   "outputs": [
    {
     "ename": "AttributeError",
     "evalue": "'Punto' object has no attribute '_x'",
     "output_type": "error",
     "traceback": [
      "\u001b[0;31m---------------------------------------------------------------------------\u001b[0m",
      "\u001b[0;31mAttributeError\u001b[0m                            Traceback (most recent call last)",
      "Cell \u001b[0;32mIn[9], line 1\u001b[0m\n\u001b[0;32m----> 1\u001b[0m \u001b[39mprint\u001b[39m(p1\u001b[39m.\u001b[39;49mx)\n",
      "Cell \u001b[0;32mIn[1], line 8\u001b[0m, in \u001b[0;36mPunto.getx\u001b[0;34m(self)\u001b[0m\n\u001b[1;32m      7\u001b[0m \u001b[39mdef\u001b[39;00m \u001b[39mgetx\u001b[39m(\u001b[39mself\u001b[39m):\n\u001b[0;32m----> 8\u001b[0m     \u001b[39mreturn\u001b[39;00m \u001b[39mself\u001b[39;49m\u001b[39m.\u001b[39;49m_x\n",
      "\u001b[0;31mAttributeError\u001b[0m: 'Punto' object has no attribute '_x'"
     ]
    }
   ],
   "source": [
    "#Intento de obtencion del punto x luego de ser eliminado\n",
    "print(p1.x)"
   ]
  },
  {
   "cell_type": "code",
   "execution_count": 22,
   "metadata": {},
   "outputs": [
    {
     "name": "stdout",
     "output_type": "stream",
     "text": [
      "94\n"
     ]
    }
   ],
   "source": [
    "# Obtencion del punto y\n",
    "print(p1.y)"
   ]
  },
  {
   "attachments": {},
   "cell_type": "markdown",
   "metadata": {},
   "source": [
    "Otra forma de implementar el comportamiento de las propiedades de un atributo se puede hacer con el uso del decorador `@property`\n",
    "\n",
    "Se muestra la misma implementacion de la clase `Punto` pero con decoradores."
   ]
  },
  {
   "cell_type": "code",
   "execution_count": 1,
   "metadata": {},
   "outputs": [],
   "source": [
    "class Punto:\n",
    "    def __init__(self, x: float, y: float) -> None:\n",
    "        self._x = x\n",
    "        self._y = y\n",
    "\n",
    "    # Propiedades de x\n",
    "\n",
    "    ## getter\n",
    "    @property\n",
    "    def x(self) -> float:\n",
    "        \"\"\"\n",
    "        x Posicion en el eje de abcisas\n",
    "\n",
    "        Returns\n",
    "        -------\n",
    "        float\n",
    "            Punto en x\n",
    "        \"\"\"\n",
    "\n",
    "        return self._x\n",
    "    \n",
    "    ## deleter\n",
    "    @x.deleter\n",
    "    def x(self) -> None:\n",
    "        del self._x\n",
    "\n",
    "    # Propiedades en y\n",
    "\n",
    "    ## getter\n",
    "    @property\n",
    "    def y(self) -> float:\n",
    "        \"\"\"\n",
    "        y Posicion en el eje de las ordenadas\n",
    "\n",
    "        Returns\n",
    "        -------\n",
    "        float\n",
    "            Punto en y\n",
    "        \"\"\"\n",
    "        return self._y\n",
    "\n",
    "    ## setter    \n",
    "    @y.setter\n",
    "    def y(self, valor) -> None:\n",
    "        self._y = valor"
   ]
  },
  {
   "cell_type": "code",
   "execution_count": 2,
   "metadata": {},
   "outputs": [
    {
     "name": "stdout",
     "output_type": "stream",
     "text": [
      "4 2\n"
     ]
    }
   ],
   "source": [
    "#Creacion del punto\n",
    "p1 = Punto(4,2)\n",
    "print(p1.x, p1.y)"
   ]
  },
  {
   "cell_type": "code",
   "execution_count": 3,
   "metadata": {},
   "outputs": [
    {
     "ename": "AttributeError",
     "evalue": "can't set attribute 'x'",
     "output_type": "error",
     "traceback": [
      "\u001b[0;31m---------------------------------------------------------------------------\u001b[0m",
      "\u001b[0;31mAttributeError\u001b[0m                            Traceback (most recent call last)",
      "Cell \u001b[0;32mIn[3], line 2\u001b[0m\n\u001b[1;32m      1\u001b[0m \u001b[39m#Intendo de modificacion de x\u001b[39;00m\n\u001b[0;32m----> 2\u001b[0m p1\u001b[39m.\u001b[39;49mx \u001b[39m=\u001b[39m \u001b[39m89\u001b[39m\n",
      "\u001b[0;31mAttributeError\u001b[0m: can't set attribute 'x'"
     ]
    }
   ],
   "source": [
    "#Intendo de modificacion de x\n",
    "p1.x = 89"
   ]
  },
  {
   "cell_type": "code",
   "execution_count": 4,
   "metadata": {},
   "outputs": [],
   "source": [
    "#Modificacion de y\n",
    "p1.y = 94"
   ]
  },
  {
   "cell_type": "code",
   "execution_count": 5,
   "metadata": {},
   "outputs": [
    {
     "name": "stdout",
     "output_type": "stream",
     "text": [
      "4 94\n"
     ]
    }
   ],
   "source": [
    "#Revision del punto\n",
    "print(p1.x, p1.y)"
   ]
  },
  {
   "cell_type": "code",
   "execution_count": 6,
   "metadata": {},
   "outputs": [],
   "source": [
    "#Eliminacion del punto x\n",
    "del p1.x"
   ]
  },
  {
   "cell_type": "code",
   "execution_count": 7,
   "metadata": {},
   "outputs": [
    {
     "ename": "AttributeError",
     "evalue": "can't delete attribute 'y'",
     "output_type": "error",
     "traceback": [
      "\u001b[0;31m---------------------------------------------------------------------------\u001b[0m",
      "\u001b[0;31mAttributeError\u001b[0m                            Traceback (most recent call last)",
      "Cell \u001b[0;32mIn[7], line 2\u001b[0m\n\u001b[1;32m      1\u001b[0m \u001b[39m#Intento de eliminacion del punto y\u001b[39;00m\n\u001b[0;32m----> 2\u001b[0m \u001b[39mdel\u001b[39;00m p1\u001b[39m.\u001b[39my\n",
      "\u001b[0;31mAttributeError\u001b[0m: can't delete attribute 'y'"
     ]
    }
   ],
   "source": [
    "#Intento de eliminacion del punto y\n",
    "del p1.y"
   ]
  },
  {
   "cell_type": "code",
   "execution_count": 8,
   "metadata": {},
   "outputs": [
    {
     "ename": "AttributeError",
     "evalue": "'Punto' object has no attribute '_x'",
     "output_type": "error",
     "traceback": [
      "\u001b[0;31m---------------------------------------------------------------------------\u001b[0m",
      "\u001b[0;31mAttributeError\u001b[0m                            Traceback (most recent call last)",
      "Cell \u001b[0;32mIn[8], line 2\u001b[0m\n\u001b[1;32m      1\u001b[0m \u001b[39m#Intento de obtencion del punto x luego de ser eliminado\u001b[39;00m\n\u001b[0;32m----> 2\u001b[0m \u001b[39mprint\u001b[39m(p1\u001b[39m.\u001b[39;49mx)\n",
      "Cell \u001b[0;32mIn[1], line 20\u001b[0m, in \u001b[0;36mPunto.x\u001b[0;34m(self)\u001b[0m\n\u001b[1;32m      9\u001b[0m \u001b[39m@property\u001b[39m\n\u001b[1;32m     10\u001b[0m \u001b[39mdef\u001b[39;00m \u001b[39mx\u001b[39m(\u001b[39mself\u001b[39m) \u001b[39m-\u001b[39m\u001b[39m>\u001b[39m \u001b[39mfloat\u001b[39m:\n\u001b[1;32m     11\u001b[0m \u001b[39m    \u001b[39m\u001b[39m\"\"\"\u001b[39;00m\n\u001b[1;32m     12\u001b[0m \u001b[39m    x Posicion en el eje de abcisas\u001b[39;00m\n\u001b[1;32m     13\u001b[0m \n\u001b[0;32m   (...)\u001b[0m\n\u001b[1;32m     17\u001b[0m \u001b[39m        Punto en x\u001b[39;00m\n\u001b[1;32m     18\u001b[0m \u001b[39m    \"\"\"\u001b[39;00m\n\u001b[0;32m---> 20\u001b[0m     \u001b[39mreturn\u001b[39;00m \u001b[39mself\u001b[39;49m\u001b[39m.\u001b[39;49m_x\n",
      "\u001b[0;31mAttributeError\u001b[0m: 'Punto' object has no attribute '_x'"
     ]
    }
   ],
   "source": [
    "#Intento de obtencion del punto x luego de ser eliminado\n",
    "print(p1.x)"
   ]
  },
  {
   "cell_type": "code",
   "execution_count": 9,
   "metadata": {},
   "outputs": [
    {
     "name": "stdout",
     "output_type": "stream",
     "text": [
      "94\n"
     ]
    }
   ],
   "source": [
    "# Obtencion del punto y\n",
    "print(p1.y)"
   ]
  },
  {
   "attachments": {},
   "cell_type": "markdown",
   "metadata": {},
   "source": [
    "```{tip}\n",
    "Cuando se usa `@property` y el decorador del atributo no es implementado (como `@x.setter` o `@y.deleter`) se eleva un error de tipo `AttributeError` lo cual indica que la propiedad no esta implementado por lo tanto no se ejecuta.\n",
    "```"
   ]
  },
  {
   "attachments": {},
   "cell_type": "markdown",
   "metadata": {},
   "source": [
    "## Ejemplo\n",
    "\n",
    "Para reforsar los conceptos vistos hasta ahora se pone el siguiente ejercicio.\n",
    "\n",
    "Se pretende crear la clase `Finalista` que guarde la clasificacion de corredores que terminaron la carrera, respetando el orden en que pasaron por la linea de meta. La clase `Corredor` se definio en {ref}`poo-construccion_de_clases_personalizada` y es el unico objeto que debera ser usado como parametro del constructor de la clase `Finalista`. `Finalista` debera guardar el contador actual de todos los finalistas y cada finalista no puede modificar su posicion. {cite}`jimenez2021python`"
   ]
  },
  {
   "cell_type": "code",
   "execution_count": 14,
   "metadata": {},
   "outputs": [],
   "source": [
    "class Finalista:\n",
    "    __finalizados = 0\n",
    "    def __new__(cls, corredor):\n",
    "        cls.__finalizados += 1\n",
    "        puesto = cls.__finalizados\n",
    "        instancia = super(Finalista, cls).__new__(cls)\n",
    "        instancia.__init__(corredor)\n",
    "        instancia._posicion = puesto\n",
    "        return instancia\n",
    "    \n",
    "    def __init__(self, corredor) -> None:\n",
    "        self.corredor = corredor\n",
    "\n",
    "    @property\n",
    "    def posicion(self):\n",
    "        \"\"\"\n",
    "        Posicion en que el corredor finalizo la carrera\n",
    "        \"\"\"\n",
    "        return self._posicion"
   ]
  },
  {
   "cell_type": "code",
   "execution_count": 16,
   "metadata": {},
   "outputs": [],
   "source": [
    "# Creacion de corredores\n",
    "nairo = Corredor('Nairo')\n",
    "rigo = Corredor('Rigoberto')\n",
    "lopez = Corredor('Superman')\n",
    "\n",
    "# Finalizacion de corredores\n",
    "nairo_finalista = Finalista(nairo)\n",
    "rigo_finalista = Finalista(rigo)"
   ]
  },
  {
   "cell_type": "code",
   "execution_count": 17,
   "metadata": {},
   "outputs": [
    {
     "name": "stdout",
     "output_type": "stream",
     "text": [
      "1 2\n"
     ]
    }
   ],
   "source": [
    "# Revision de llegada\n",
    "print(nairo_finalista.posicion, rigo_finalista.posicion)"
   ]
  },
  {
   "cell_type": "code",
   "execution_count": 18,
   "metadata": {},
   "outputs": [
    {
     "ename": "AttributeError",
     "evalue": "can't set attribute 'posicion'",
     "output_type": "error",
     "traceback": [
      "\u001b[0;31m---------------------------------------------------------------------------\u001b[0m",
      "\u001b[0;31mAttributeError\u001b[0m                            Traceback (most recent call last)",
      "Cell \u001b[0;32mIn[18], line 2\u001b[0m\n\u001b[1;32m      1\u001b[0m \u001b[39m# Intento de modificacion de posicion de rigo_finalista\u001b[39;00m\n\u001b[0;32m----> 2\u001b[0m rigo_finalista\u001b[39m.\u001b[39;49mposicion \u001b[39m=\u001b[39m \u001b[39m1\u001b[39m\n",
      "\u001b[0;31mAttributeError\u001b[0m: can't set attribute 'posicion'"
     ]
    }
   ],
   "source": [
    "# Intento de modificacion de posicion de rigo_finalista\n",
    "rigo_finalista.posicion = 1"
   ]
  },
  {
   "attachments": {},
   "cell_type": "markdown",
   "metadata": {},
   "source": [
    "## Metodos"
   ]
  }
 ],
 "metadata": {
  "kernelspec": {
   "display_name": ".venv",
   "language": "python",
   "name": "python3"
  },
  "language_info": {
   "codemirror_mode": {
    "name": "ipython",
    "version": 3
   },
   "file_extension": ".py",
   "mimetype": "text/x-python",
   "name": "python",
   "nbconvert_exporter": "python",
   "pygments_lexer": "ipython3",
   "version": "3.10.10"
  },
  "vscode": {
   "interpreter": {
    "hash": "7b43eada4ad709a4830a67a9dc3cac500a6dfb65289ff7159b4b3a926e462281"
   }
  }
 },
 "nbformat": 4,
 "nbformat_minor": 2
}