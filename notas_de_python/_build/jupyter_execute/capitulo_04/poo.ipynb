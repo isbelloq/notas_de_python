{
 "cells": [
  {
   "attachments": {},
   "cell_type": "markdown",
   "metadata": {},
   "source": [
    "# Programacion orientada a objetos\n",
    "\n",
    "```{important} _Clase_: Molde que se utiliza para crear __objetos__\n",
    "```\n",
    "\n",
    "```{important} _Instancia_: Objeto creado con una clase.\n",
    "```\n",
    "\n",
    "```{important} _Atributo_: Informacion almacenada en una _clase_ o en una _instancia de clase_\n",
    "```\n",
    "\n",
    "```{important} _Metodo_: Herramienta para operar datos propios de una _clase_ o de otros objetos\n",
    "```"
   ]
  },
  {
   "attachments": {},
   "cell_type": "markdown",
   "metadata": {},
   "source": [
    "## Definicion de una clase\n",
    "\n",
    "Para definir una clase se usa la palabra reservada `class` seguido de un nombre.\n",
    "\n",
    "```{tip} Segun [PEP-8](https://peps.python.org/pep-0008/#class-names) los nombres de clase se deben poner usando la convencion de __CamelCase__.\n",
    "```"
   ]
  },
  {
   "cell_type": "code",
   "execution_count": 1,
   "metadata": {},
   "outputs": [],
   "source": [
    "# Creacion de una clase vacia\n",
    "class MiPrimeraClase:\n",
    "    pass"
   ]
  },
  {
   "cell_type": "code",
   "execution_count": 2,
   "metadata": {},
   "outputs": [
    {
     "name": "stdout",
     "output_type": "stream",
     "text": [
      "<class '__main__.MiPrimeraClase'>\n",
      "<class '__main__.MiPrimeraClase'>\n"
     ]
    }
   ],
   "source": [
    "# Cracion de instancias de clase\n",
    "\n",
    "a = MiPrimeraClase()\n",
    "b = MiPrimeraClase()\n",
    "\n",
    "# Revision del tipo de dato de las instancias a y b\n",
    "print(type(a))\n",
    "print(type(b))"
   ]
  },
  {
   "attachments": {},
   "cell_type": "markdown",
   "metadata": {},
   "source": [
    "## Atributos\n",
    "\n",
    "```{important} Los _atributos_ guardan informacion de una clase\n",
    "```\n",
    "\n",
    "Se pueden agregar nuevos atributos a una clase de dos formas:\n",
    "\n",
    "* `instancia.atriburo = valor`\n",
    "* `setattr(instancia, atributo, valor)`"
   ]
  },
  {
   "cell_type": "code",
   "execution_count": 3,
   "metadata": {},
   "outputs": [],
   "source": [
    "# Agregando atributos con .\n",
    "a.nombre = 'Santiago'\n",
    "a.edad = 29\n",
    "\n",
    "# Agregando atributos con setattr\n",
    "setattr(b, 'nombre', 'Ivan')\n",
    "setattr(b, 'edad', 29)"
   ]
  },
  {
   "attachments": {},
   "cell_type": "markdown",
   "metadata": {},
   "source": [
    "Se pueden acceder a los atributos de dos formas:\n",
    "\n",
    "* `instancia.atributo`\n",
    "* `getattr(instancia, atributo)`"
   ]
  },
  {
   "cell_type": "code",
   "execution_count": 4,
   "metadata": {},
   "outputs": [
    {
     "name": "stdout",
     "output_type": "stream",
     "text": [
      "Santiago\n",
      "29\n",
      "Ivan\n",
      "29\n"
     ]
    }
   ],
   "source": [
    "# Accediendo con getattr\n",
    "print(getattr(a, 'nombre'))\n",
    "print(getattr(a, 'edad'))\n",
    "\n",
    "# Accediedo con .\n",
    "print(b.nombre)\n",
    "print(b.edad)"
   ]
  }
 ],
 "metadata": {
  "kernelspec": {
   "display_name": ".venv",
   "language": "python",
   "name": "python3"
  },
  "language_info": {
   "codemirror_mode": {
    "name": "ipython",
    "version": 3
   },
   "file_extension": ".py",
   "mimetype": "text/x-python",
   "name": "python",
   "nbconvert_exporter": "python",
   "pygments_lexer": "ipython3",
   "version": "3.10.10"
  },
  "vscode": {
   "interpreter": {
    "hash": "7b43eada4ad709a4830a67a9dc3cac500a6dfb65289ff7159b4b3a926e462281"
   }
  }
 },
 "nbformat": 4,
 "nbformat_minor": 2
}